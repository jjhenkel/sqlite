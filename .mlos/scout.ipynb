{
 "cells": [
  {
   "cell_type": "code",
   "execution_count": 1,
   "metadata": {
    "tags": [],
    "vscode": {
     "end_execution_time": "2020-08-19T20:14:47.677Z",
     "start_execution_time": "2020-08-19T20:14:44.319Z"
    }
   },
   "outputs": [],
   "source": [
    "# Install our (local, for now) pip package \n",
    "!pip3 install -e /home/jjhenkel/find-tune"
   ]
  },
  {
   "cell_type": "code",
   "execution_count": 1,
   "metadata": {
    "tags": [],
    "vscode": {
     "end_execution_time": "2020-08-19T22:21:50.237Z",
     "start_execution_time": "2020-08-19T22:21:44.242Z"
    }
   },
   "outputs": [
    {
     "name": "stderr",
     "output_type": "stream",
     "text": [
      "- Verifying environment...\n",
      "   ✓ Environment verification complete\n",
      "- Creating project from current git repository...\n",
      "   - Getting project name: \n",
      "      ✓ project-name:='https://github.com/jjhenkel/sqlite'\n",
      "   - Getting project commit hash: \n",
      "      ✓ project-commit:='ad645ae35e5f2520aaecaa2eda0b52fbeef08453'\n",
      "- Ensuring infrastructure is allocated...\n",
      "\u001b[K   ✓ Found resource group 'FindTune-EUS'\n",
      "\u001b[K   ✓ Using existing vnet: 'findtune-az-autogen-vnet-801663' (['10.0.0.0/16'])\n",
      "   ✓ Using existing subnet: 'findtune-az-autogen-subnet-806943' (10.0.0.0/24)\n",
      "\u001b[K   ✓ Using existing ip: 'findtune-az-autogen-ip-ft-db-211043' (52.226.50.179)\n",
      "   ✓ Using existing vm: 'findtune-az-autogen-vm-ft-db-500381'\n",
      "- Attaching...\n",
      "\u001b[K   ✓ 'findtune-az-autogen-vm-ft-db-500381' is running!\n",
      "\u001b[K   ✓ Skipping DB create. Database 'targets-sqlite' already exists!\n",
      "   ✓ Attached. Ready to run queries\n"
     ]
    }
   ],
   "source": [
    "import mlos\n",
    "\n",
    "OVERRIDE_PLUGIN='/home/jjhenkel/mount/velveeta/find-tune/frontends/clang/src/libDumpDatalog.so'\n",
    "\n",
    "mlos.set_project_dir('/home/jjhenkel/sqlite/.mlos')\n",
    "mlos.checkenv(using_azure=True)\n",
    "\n",
    "project = (\n",
    "    mlos\n",
    "    .create_project_from_git_info()\n",
    "    .with_backend(mlos.backends().azure())\n",
    "    .with_build_options(\n",
    "        mlos.build_options().override_plugin(OVERRIDE_PLUGIN)\n",
    "    )\n",
    ")\n",
    "\n",
    "project.attach(db_only=True)"
   ]
  },
  {
   "cell_type": "code",
   "execution_count": 2,
   "metadata": {
    "tags": [],
    "vscode": {
     "end_execution_time": "2020-08-19T21:54:12.541Z",
     "start_execution_time": "2020-08-19T21:51:44.826Z"
    }
   },
   "outputs": [
    {
     "name": "stderr",
     "output_type": "stream",
     "text": [
      "- Preparing target docker image...\n",
      "   ✓ Overriding plugin with '/home/jjhenkel/mount/velveeta/find-tune/frontends/clang/src/libDumpDatalog.so'\n",
      "   - Building image findtune/mlos-target:ad645ae35e5f2520aaecaa2eda0b52fbeef08453...\n",
      "\u001b[K      ✓ Image build complete!\n",
      "\u001b[K      ✓ Push complete!\n",
      "\u001b[K   ✓ Override cleanup complete!\n",
      "- Running remote build...\n",
      "\u001b[K   ✓ Build started! Use poll_status() to watch build progress.\n",
      "\u001b[K"
     ]
    }
   ],
   "source": [
    "project.ingest()"
   ]
  },
  {
   "cell_type": "code",
   "execution_count": 3,
   "metadata": {
    "tags": [],
    "vscode": {
     "end_execution_time": "2020-08-19T22:08:30.285Z",
     "start_execution_time": "2020-08-19T21:55:33.616Z"
    }
   },
   "outputs": [
    {
     "name": "stdout",
     "output_type": "stream",
     "text": [
      "\u001b[K\u001b[34m✓ Build container finished --- waiting for completed sessions backlog to clear.\u001b[0m \n",
      "\u001b[K\u001b[34m✓ Completed sessions backlog cleared --- waiting for embeddings to be computed.\u001b[0m \n",
      "\u001b[K\u001b[34m✓ Ingest complete! Use project.detach(keep_db=True) and/or project.deallocate(keep_db=True) to cleanup build & gpu VMs.\u001b[0m \n"
     ]
    }
   ],
   "source": [
    "project.poll_status()"
   ]
  },
  {
   "cell_type": "code",
   "execution_count": 4,
   "metadata": {
    "tags": [],
    "vscode": {
     "end_execution_time": "2020-08-19T22:09:39.801Z",
     "start_execution_time": "2020-08-19T22:08:38.186Z"
    }
   },
   "outputs": [
    {
     "name": "stderr",
     "output_type": "stream",
     "text": [
      "- Detaching...\n",
      "\u001b[K   ✓ 'findtune-az-autogen-vm-ft-embed-649821' is stopped!\n",
      "\u001b[K   ✓ 'findtune-az-autogen-vm-ft-build-172657' is stopped!\n",
      "   ✓ Detached. DB VM still attached. Call project.detach(keep_db=False) to detach.\n",
      "\u001b[K"
     ]
    }
   ],
   "source": [
    "project.detach(keep_db=True)"
   ]
  },
  {
   "cell_type": "code",
   "execution_count": 8,
   "metadata": {
    "vscode": {
     "end_execution_time": "2020-08-19T22:24:13.789Z",
     "start_execution_time": "2020-08-19T22:24:12.314Z"
    }
   },
   "outputs": [
    {
     "data": {
      "text/html": "<div class=\"findtune\" style=\"display: none;\">[{\"similarity\": 99.99987288805599, \"start_line\": 163931, \"start_column\": 9, \"end_line\": 163931, \"end_column\": 21, \"file\": \"/sqlite3.c\", \"clang_source_range_as_text\": \"int limit = 0\", \"gid\": 669246236552720099, \"label\": \"int limit = 0\"}, {\"similarity\": 99.99987288805599, \"start_line\": 72172, \"start_column\": 5, \"end_line\": 72172, \"end_column\": 23, \"file\": \"/sqlite3.c\", \"clang_source_range_as_text\": \"int limit = pOld->nCell\", \"gid\": 8039027368066428878, \"label\": \"int limit = pOld->nCell\"}, {\"similarity\": 48.16714378155036, \"start_line\": 163713, \"start_column\": 43, \"end_line\": 163713, \"end_column\": 47, \"file\": \"/sqlite3.c\", \"clang_source_range_as_text\": \"int limitId\", \"gid\": 3791532921537016426, \"label\": \"int limitId\"}, {\"similarity\": 26.51316124772194, \"start_line\": 37550, \"start_column\": 7, \"end_line\": 37550, \"end_column\": 29, \"file\": \"/sqlite3.c\", \"clang_source_range_as_text\": \"i64 newLimit = *(i64*)pArg\", \"gid\": -1028195910867772376, \"label\": \"i64 newLimit = *(i64*)pArg\"}, {\"similarity\": 26.51316124772194, \"start_line\": 163713, \"start_column\": 56, \"end_line\": 163713, \"end_column\": 60, \"file\": \"/sqlite3.c\", \"clang_source_range_as_text\": \"int newLimit\", \"gid\": 4913070338447041608, \"label\": \"int newLimit\"}, {\"similarity\": 22.812587343657185, \"start_line\": 118263, \"start_column\": 3, \"end_line\": 118263, \"end_column\": 7, \"file\": \"/sqlite3.c\", \"clang_source_range_as_text\": \"int loopLimit\", \"gid\": -1999728483752162557, \"label\": \"int loopLimit\"}, {\"similarity\": 20.555107161000073, \"start_line\": 163650, \"start_column\": 1, \"end_line\": 163663, \"end_column\": 1, \"file\": \"/sqlite3.c\", \"clang_source_range_as_text\": \"static const int aHardLimit[] = {\\n  SQLITE_MAX_LENGTH,\\n  SQLITE_MAX_SQL_LENGTH,\\n  SQLITE_MAX_COLUMN,\\n  SQLITE_MAX_EXPR_DEPTH,\\n  SQLITE_MAX_COMPOUND_SELECT,\\n  SQLITE_MAX_VDBE_OP,\\n  SQLITE_MAX_FUNCTION_ARG,\\n  SQLITE_MAX_ATTACHED,\\n  SQLITE_MAX_LIKE_PATTERN_LENGTH,\\n  SQLITE_MAX_VARIABLE_NUMBER,      /* IMP: R-38091-32352 */\\n  SQLITE_MAX_TRIGGER_DEPTH,\\n  SQLITE_MAX_WORKER_THREADS,\\n}\", \"gid\": -5026938272035478110, \"label\": \"static const int aHardLimit[] = {\\n  SQLITE_MAX_LENGTH,\\n  SQLITE_MAX_SQL_LENGTH,\\n  SQLITE_MAX_COLUMN,\\n  SQLITE_MAX_EXPR_DEPTH,\\n  SQLITE_MAX_COMPOUND_SELECT,\\n  SQLITE_MAX_VDBE_OP,\\n  SQLITE_MAX_FUNCTION_ARG,\\n  SQLITE_MAX_ATTACHED,\\n  SQLITE_MAX_LIKE_PATTERN_LENGTH,\\n  SQLITE_MAX_VARIABLE_NUMBER,      /* IMP: R-38091-32352 */\\n  SQLITE_MAX_TRIGGER_DEPTH,\\n  SQLITE_MAX_WORKER_THREADS,\\n}\"}, {\"similarity\": 20.264360447813377, \"start_line\": 27450, \"start_column\": 3, \"end_line\": 27450, \"end_column\": 17, \"file\": \"/sqlite3.c\", \"clang_source_range_as_text\": \"sqlite3_int64 priorLimit\", \"gid\": -3308478909643902560, \"label\": \"sqlite3_int64 priorLimit\"}, {\"similarity\": 20.264360447813377, \"start_line\": 27408, \"start_column\": 3, \"end_line\": 27408, \"end_column\": 17, \"file\": \"/sqlite3.c\", \"clang_source_range_as_text\": \"sqlite3_int64 priorLimit\", \"gid\": 5064158105038034299, \"label\": \"sqlite3_int64 priorLimit\"}, {\"similarity\": 20.134355917227087, \"start_line\": 102717, \"start_column\": 3, \"end_line\": 102717, \"end_column\": 9, \"file\": \"/sqlite3.c\", \"clang_source_range_as_text\": \"Expr *pLimit\", \"gid\": -5625314561848088266, \"label\": \"Expr *pLimit\"}]</div><p>Results viewable in the find-tune panel.</p>",
      "text/plain": "<IPython.core.display.HTML object>"
     },
     "metadata": {},
     "output_type": "display_data"
    }
   ],
   "source": [
    "(project\n",
    "  .query()\n",
    "  .variables()\n",
    "  .name_semantically_similar_to(\"limit\")\n",
    "  .make_visualizable()\n",
    "  .select()\n",
    "  .limit(10)\n",
    "  .execute()\n",
    "  .display()\n",
    ")"
   ]
  }
 ],
 "metadata": {
  "kernelspec": {
   "display_name": "Python 2.7.16 64-bit",
   "name": "python_defaultSpec_1597875099707"
  },
  "language_info": {
   "codemirror_mode": {
    "name": "ipython",
    "version": 3
   },
   "file_extension": ".py",
   "mimetype": "text/x-python",
   "name": "python",
   "nbconvert_exporter": "python",
   "pygments_lexer": "ipython3",
   "version": "2.7.16-final"
  },
  "orig_nbformat": 2
 },
 "nbformat": 4,
 "nbformat_minor": 2
}