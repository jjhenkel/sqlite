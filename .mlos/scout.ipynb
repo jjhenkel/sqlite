{
 "cells": [
  {
   "cell_type": "code",
   "execution_count": 1,
   "metadata": {
    "tags": [],
    "vscode": {
     "end_execution_time": "2020-08-19T20:14:47.677Z",
     "start_execution_time": "2020-08-19T20:14:44.319Z"
    }
   },
   "outputs": [],
   "source": [
    "# Install our (local, for now) pip package \n",
    "!pip3 install -e /home/jjhenkel/find-tune"
   ]
  },
  {
   "cell_type": "code",
   "execution_count": 1,
   "metadata": {
    "tags": [],
    "vscode": {
     "end_execution_time": "2020-08-24T16:23:18.941Z",
     "start_execution_time": "2020-08-24T16:23:11.648Z"
    }
   },
   "outputs": [
    {
     "name": "stderr",
     "output_type": "stream",
     "text": [
      "- Verifying environment...\n",
      "   ✓ Environment verification complete\n",
      "- Creating project from current git repository...\n",
      "   - Getting project name: \n",
      "      ✓ project-name:='https://github.com/jjhenkel/sqlite'\n",
      "   - Getting project commit hash: \n",
      "      ✓ project-commit:='06da130bcdaca675cf504b64911ade1d569d696f'\n",
      "- Ensuring infrastructure is allocated...\n",
      "\u001b[K   ✓ Found resource group 'FindTune-EUS'\n",
      "\u001b[K   ✓ Using existing vnet: 'findtune-az-autogen-vnet-801663' (['10.0.0.0/16'])\n",
      "   ✓ Using existing subnet: 'findtune-az-autogen-subnet-806943' (10.0.0.0/24)\n",
      "\u001b[K   ✓ Using existing ip: 'findtune-az-autogen-ip-ft-db-211043' (52.226.50.179)\n",
      "   ✓ Using existing vm: 'findtune-az-autogen-vm-ft-db-500381'\n",
      "- Attaching...\n",
      "\u001b[K   ✓ 'findtune-az-autogen-vm-ft-db-500381' is running!\n",
      "\u001b[K   ✓ Skipping DB create. Database 'targets-sqlite' already exists!\n",
      "   ✓ Attached. Ready to run queries\n"
     ]
    },
    {
     "data": {
      "text/html": "<div class=\"findtune\" style=\"display: none;\">{\"POSTGRES_HOST\": \"52.226.50.179\", \"POSTGRES_USER\": \"ft-admin\", \"POSTGRES_PASSWORD\": \"vie0thahnahpheKe\", \"POSTGRES_DB\": \"targets-sqlite\"}</div>",
      "text/plain": "<IPython.core.display.HTML object>"
     },
     "metadata": {},
     "output_type": "display_data"
    }
   ],
   "source": [
    "import mlos\n",
    "\n",
    "mlos.set_project_dir('/home/jjhenkel/sqlite/.mlos')\n",
    "mlos.checkenv(using_azure=True)\n",
    "\n",
    "project = (\n",
    "    mlos\n",
    "    .create_project_from_git_info()\n",
    "    .with_backend(mlos.backends().azure())\n",
    "    .with_build_options(mlos.build_options())\n",
    ")\n",
    "\n",
    "project.attach(db_only=True)"
   ]
  },
  {
   "cell_type": "code",
   "execution_count": 2,
   "metadata": {
    "tags": [],
    "vscode": {
     "end_execution_time": "2020-08-19T21:54:12.541Z",
     "start_execution_time": "2020-08-19T21:51:44.826Z"
    }
   },
   "outputs": [
    {
     "name": "stderr",
     "output_type": "stream",
     "text": [
      "- Preparing target docker image...\n",
      "   ✓ Overriding plugin with '/home/jjhenkel/mount/velveeta/find-tune/frontends/clang/src/libDumpDatalog.so'\n",
      "   - Building image findtune/mlos-target:ad645ae35e5f2520aaecaa2eda0b52fbeef08453...\n",
      "\u001b[K      ✓ Image build complete!\n",
      "\u001b[K      ✓ Push complete!\n",
      "\u001b[K   ✓ Override cleanup complete!\n",
      "- Running remote build...\n",
      "\u001b[K   ✓ Build started! Use poll_status() to watch build progress.\n",
      "\u001b[K"
     ]
    }
   ],
   "source": [
    "project.ingest()"
   ]
  },
  {
   "cell_type": "code",
   "execution_count": 3,
   "metadata": {
    "tags": [],
    "vscode": {
     "end_execution_time": "2020-08-19T22:08:30.285Z",
     "start_execution_time": "2020-08-19T21:55:33.616Z"
    }
   },
   "outputs": [
    {
     "name": "stdout",
     "output_type": "stream",
     "text": [
      "\u001b[K\u001b[34m✓ Build container finished --- waiting for completed sessions backlog to clear.\u001b[0m \n",
      "\u001b[K\u001b[34m✓ Completed sessions backlog cleared --- waiting for embeddings to be computed.\u001b[0m \n",
      "\u001b[K\u001b[34m✓ Ingest complete! Use project.detach(keep_db=True) and/or project.deallocate(keep_db=True) to cleanup build & gpu VMs.\u001b[0m \n"
     ]
    }
   ],
   "source": [
    "project.poll_status()"
   ]
  },
  {
   "cell_type": "code",
   "execution_count": 4,
   "metadata": {
    "tags": [],
    "vscode": {
     "end_execution_time": "2020-08-19T22:09:39.801Z",
     "start_execution_time": "2020-08-19T22:08:38.186Z"
    }
   },
   "outputs": [
    {
     "name": "stderr",
     "output_type": "stream",
     "text": [
      "- Detaching...\n",
      "\u001b[K   ✓ 'findtune-az-autogen-vm-ft-embed-649821' is stopped!\n",
      "\u001b[K   ✓ 'findtune-az-autogen-vm-ft-build-172657' is stopped!\n",
      "   ✓ Detached. DB VM still attached. Call project.detach(keep_db=False) to detach.\n",
      "\u001b[K"
     ]
    }
   ],
   "source": [
    "project.detach(keep_db=True)"
   ]
  },
  {
   "cell_type": "code",
   "execution_count": 6,
   "metadata": {
    "vscode": {
     "end_execution_time": "2020-08-24T16:24:53.558Z",
     "start_execution_time": "2020-08-24T16:24:53.208Z"
    }
   },
   "outputs": [
    {
     "name": "stdout",
     "output_type": "stream",
     "text": [
      "Uses sqlite3GLOBAL... in 159.0/167.0 (95.21%) of places\n"
     ]
    }
   ],
   "source": [
    "results = (project\n",
    "  .query()\n",
    "  .records()\n",
    "  .name_contains(\"config\")\n",
    "  .make_visualizable()\n",
    "  .fields()\n",
    "  .select_usages()\n",
    "  .from_files_matching('/sqlite3.c')\n",
    "  .execute()\n",
    ").results\n",
    "\n",
    "USES_GLOBAL = float(len([ \n",
    "  x for x in results if 'Global' in x['clang_source_range_as_text']\n",
    "]))\n",
    "\n",
    "TOTAL = float(len(results))\n",
    "\n",
    "print(\"Uses sqlite3GLOBAL... in {}/{} ({:.2%}) of places\".format(\n",
    "  USES_GLOBAL, TOTAL, USES_GLOBAL / TOTAL\n",
    "))"
   ]
  },
  {
   "cell_type": "code",
   "execution_count": 16,
   "metadata": {
    "vscode": {
     "end_execution_time": "2020-08-24T15:23:18.532Z",
     "start_execution_time": "2020-08-24T15:23:18.155Z"
    }
   },
   "outputs": [
    {
     "data": {
      "text/html": "<table border=\"1\" class=\"dataframe\">\n  <thead>\n    <tr style=\"text-align: right;\">\n      <th></th>\n      <th>gid</th>\n      <th>start_line</th>\n      <th>start_column</th>\n      <th>end_line</th>\n      <th>end_column</th>\n      <th>file</th>\n      <th>clang_source_range_as_text</th>\n    </tr>\n  </thead>\n  <tbody>\n    <tr>\n      <th>0</th>\n      <td>-1878978231921796428</td>\n      <td>50584</td>\n      <td>5</td>\n      <td>50584</td>\n      <td>37</td>\n      <td>/sqlite3.c</td>\n      <td>pCache-&gt;n90pct = pCache-&gt;nMax*9/10</td>\n    </tr>\n    <tr>\n      <th>1</th>\n      <td>1895907294033749948</td>\n      <td>50914</td>\n      <td>5</td>\n      <td>50914</td>\n      <td>30</td>\n      <td>/sqlite3.c</td>\n      <td>pCache-&gt;iMaxKey = iLimit-1</td>\n    </tr>\n  </tbody>\n</table>",
      "text/plain": "<IPython.core.display.HTML object>"
     },
     "metadata": {},
     "output_type": "display_data"
    }
   ],
   "source": [
    "(project\n",
    "  .query()\n",
    "  .records()\n",
    "  .name_contains(\"cache\")\n",
    "  .field_references()\n",
    "  .restrict_to_assignments(\n",
    "    where_rhs=mlos.filters().arithmetic()\n",
    "  )\n",
    "  .make_visualizable()\n",
    "  .select()\n",
    "  .execute()\n",
    "  .display()\n",
    ")"
   ]
  },
  {
   "cell_type": "code",
   "execution_count": 3,
   "metadata": {
    "vscode": {
     "end_execution_time": "2020-08-21T19:53:42.005Z",
     "start_execution_time": "2020-08-21T19:53:41.134Z"
    }
   },
   "outputs": [
    {
     "data": {
      "text/html": "<div class=\"findtune\" style=\"display: none;\">[{\"similarity\": 12.329124387423784, \"gid\": -473653397361588526, \"start_line\": 16035, \"start_column\": 1, \"end_line\": 16058, \"end_column\": 1, \"file\": \"/sqlite3.c\", \"clang_source_range_as_text\": \"struct PgHdr {\\n  sqlite3_pcache_page *pPage;    /* Pcache object page handle */\\n  void *pData;                   /* Page data */\\n  void *pExtra;                  /* Extra content */\\n  PCache *pCache;                /* PRIVATE: Cache that owns this page */\\n  PgHdr *pDirty;                 /* Transient list of dirty sorted by pgno */\\n  Pager *pPager;                 /* The pager this page is part of */\\n  Pgno pgno;                     /* Page number for this page */\\n#ifdef SQLITE_CHECK_PAGES\\n  u32 pageHash;                  /* Hash of page content */\\n#endif\\n  u16 flags;                     /* PGHDR flags defined below */\\n\\n  /**********************************************************************\\n  ** Elements above, except pCache, are public.  All that follow are\\n  ** private to pcache.c and should not be accessed by other modules.\\n  ** pCache is grouped with the public elements for efficiency.\\n  */\\n  i16 nRef;                      /* Number of users of this page */\\n  PgHdr *pDirtyNext;             /* Next element in list of dirty pages */\\n  PgHdr *pDirtyPrev;             /* Previous element in list of dirty pages */\\n                          /* NB: pDirtyNext and pDirtyPrev are undefined if the\\n                          ** PgHdr object is not dirty */\\n}\", \"label\": \"struct PgHdr {\\n  sqlite3_pcache_page *pPage;    /* Pcache object page handle */\\n  void *pData;                   /* Page data */\\n  void *pExtra;                  /* Extra content */\\n  PCache *pCache;                /* PRIVATE: Cache that owns this page */\\n  PgHdr *pDirty;                 /* Transient list of dirty sorted by pgno */\\n  Pager *pPager;                 /* The pager this page is part of */\\n  Pgno pgno;                     /* Page number for this page */\\n#ifdef SQLITE_CHECK_PAGES\\n  u32 pageHash;                  /* Hash of page content */\\n#endif\\n  u16 flags;                     /* PGHDR flags defined below */\\n\\n  /**********************************************************************\\n  ** Elements above, except pCache, are public.  All that follow are\\n  ** private to pcache.c and should not be accessed by other modules.\\n  ** pCache is grouped with the public elements for efficiency.\\n  */\\n  i16 nRef;                      /* Number of users of this page */\\n  PgHdr *pDirtyNext;             /* Next element in list of dirty pages */\\n  PgHdr *pDirtyPrev;             /* Previous element in list of dirty pages */\\n                          /* NB: pDirtyNext and pDirtyPrev are undefined if the\\n                          ** PgHdr object is not dirty */\\n}\"}, {\"similarity\": -1.9142853689331663, \"gid\": -8817696706890289740, \"start_line\": 49923, \"start_column\": 1, \"end_line\": 49951, \"end_column\": 1, \"file\": \"/sqlite3.c\", \"clang_source_range_as_text\": \"struct PCache1 {\\n  /* Cache configuration parameters. Page size (szPage) and the purgeable\\n  ** flag (bPurgeable) and the pnPurgeable pointer are all set when the\\n  ** cache is created and are never changed thereafter. nMax may be\\n  ** modified at any time by a call to the pcache1Cachesize() method.\\n  ** The PGroup mutex must be held when accessing nMax.\\n  */\\n  PGroup *pGroup;                     /* PGroup this cache belongs to */\\n  unsigned int *pnPurgeable;          /* Pointer to pGroup->nPurgeable */\\n  int szPage;                         /* Size of database content section */\\n  int szExtra;                        /* sizeof(MemPage)+sizeof(PgHdr) */\\n  int szAlloc;                        /* Total size of one pcache line */\\n  int bPurgeable;                     /* True if cache is purgeable */\\n  unsigned int nMin;                  /* Minimum number of pages reserved */\\n  unsigned int nMax;                  /* Configured \\\"cache_size\\\" value */\\n  unsigned int n90pct;                /* nMax*9/10 */\\n  unsigned int iMaxKey;               /* Largest key seen since xTruncate() */\\n  unsigned int nPurgeableDummy;       /* pnPurgeable points here when not used*/\\n\\n  /* Hash table of all pages. The following variables may only be accessed\\n  ** when the accessor is holding the PGroup mutex.\\n  */\\n  unsigned int nRecyclable;           /* Number of pages in the LRU list */\\n  unsigned int nPage;                 /* Total number of pages in apHash */\\n  unsigned int nHash;                 /* Number of slots in apHash[] */\\n  PgHdr1 **apHash;                    /* Hash table for fast lookup by key */\\n  PgHdr1 *pFree;                      /* List of unused pcache-local pages */\\n  void *pBulk;                        /* Bulk memory used by pcache-local */\\n}\", \"label\": \"struct PCache1 {\\n  /* Cache configuration parameters. Page size (szPage) and the purgeable\\n  ** flag (bPurgeable) and the pnPurgeable pointer are all set when the\\n  ** cache is created and are never changed thereafter. nMax may be\\n  ** modified at any time by a call to the pcache1Cachesize() method.\\n  ** The PGroup mutex must be held when accessing nMax.\\n  */\\n  PGroup *pGroup;                     /* PGroup this cache belongs to */\\n  unsigned int *pnPurgeable;          /* Pointer to pGroup->nPurgeable */\\n  int szPage;                         /* Size of database content section */\\n  int szExtra;                        /* sizeof(MemPage)+sizeof(PgHdr) */\\n  int szAlloc;                        /* Total size of one pcache line */\\n  int bPurgeable;                     /* True if cache is purgeable */\\n  unsigned int nMin;                  /* Minimum number of pages reserved */\\n  unsigned int nMax;                  /* Configured \\\"cache_size\\\" value */\\n  unsigned int n90pct;                /* nMax*9/10 */\\n  unsigned int iMaxKey;               /* Largest key seen since xTruncate() */\\n  unsigned int nPurgeableDummy;       /* pnPurgeable points here when not used*/\\n\\n  /* Hash table of all pages. The following variables may only be accessed\\n  ** when the accessor is holding the PGroup mutex.\\n  */\\n  unsigned int nRecyclable;           /* Number of pages in the LRU list */\\n  unsigned int nPage;                 /* Total number of pages in apHash */\\n  unsigned int nHash;                 /* Number of slots in apHash[] */\\n  PgHdr1 **apHash;                    /* Hash table for fast lookup by key */\\n  PgHdr1 *pFree;                      /* List of unused pcache-local pages */\\n  void *pBulk;                        /* Bulk memory used by pcache-local */\\n}\"}, {\"similarity\": -5.243950023003974, \"gid\": 6887885965499682590, \"start_line\": 49964, \"start_column\": 19, \"end_line\": 49988, \"end_column\": 1, \"file\": \"/sqlite3.c\", \"clang_source_range_as_text\": \"struct PCacheGlobal {\\n  PGroup grp;                    /* The global PGroup for mode (2) */\\n\\n  /* Variables related to SQLITE_CONFIG_PAGECACHE settings.  The\\n  ** szSlot, nSlot, pStart, pEnd, nReserve, and isInit values are all\\n  ** fixed at sqlite3_initialize() time and do not require mutex protection.\\n  ** The nFreeSlot and pFree values do require mutex protection.\\n  */\\n  int isInit;                    /* True if initialized */\\n  int separateCache;             /* Use a new PGroup for each PCache */\\n  int nInitPage;                 /* Initial bulk allocation size */\\n  int szSlot;                    /* Size of each free slot */\\n  int nSlot;                     /* The number of pcache slots */\\n  int nReserve;                  /* Try to keep nFreeSlot above this */\\n  void *pStart, *pEnd;           /* Bounds of global page cache memory */\\n  /* Above requires no mutex.  Use mutex below for variable that follow. */\\n  sqlite3_mutex *mutex;          /* Mutex for accessing the following: */\\n  PgFreeslot *pFree;             /* Free page blocks */\\n  int nFreeSlot;                 /* Number of unused pcache slots */\\n  /* The following value requires a mutex to change.  We skip the mutex on\\n  ** reading because (1) most platforms read a 32-bit integer atomically and\\n  ** (2) even if an incorrect value is read, no great harm is done since this\\n  ** is really just an optimization. */\\n  int bUnderPressure;            /* True if low on PAGECACHE memory */\\n}\", \"label\": \"struct PCacheGlobal {\\n  PGroup grp;                    /* The global PGroup for mode (2) */\\n\\n  /* Variables related to SQLITE_CONFIG_PAGECACHE settings.  The\\n  ** szSlot, nSlot, pStart, pEnd, nReserve, and isInit values are all\\n  ** fixed at sqlite3_initialize() time and do not require mutex protection.\\n  ** The nFreeSlot and pFree values do require mutex protection.\\n  */\\n  int isInit;                    /* True if initialized */\\n  int separateCache;             /* Use a new PGroup for each PCache */\\n  int nInitPage;                 /* Initial bulk allocation size */\\n  int szSlot;                    /* Size of each free slot */\\n  int nSlot;                     /* The number of pcache slots */\\n  int nReserve;                  /* Try to keep nFreeSlot above this */\\n  void *pStart, *pEnd;           /* Bounds of global page cache memory */\\n  /* Above requires no mutex.  Use mutex below for variable that follow. */\\n  sqlite3_mutex *mutex;          /* Mutex for accessing the following: */\\n  PgFreeslot *pFree;             /* Free page blocks */\\n  int nFreeSlot;                 /* Number of unused pcache slots */\\n  /* The following value requires a mutex to change.  We skip the mutex on\\n  ** reading because (1) most platforms read a 32-bit integer atomically and\\n  ** (2) even if an incorrect value is read, no great harm is done since this\\n  ** is really just an optimization. */\\n  int bUnderPressure;            /* True if low on PAGECACHE memory */\\n}\"}, {\"similarity\": -5.82873188589641, \"gid\": 6786776565626513224, \"start_line\": 49906, \"start_column\": 1, \"end_line\": 49913, \"end_column\": 1, \"file\": \"/sqlite3.c\", \"clang_source_range_as_text\": \"struct PGroup {\\n  sqlite3_mutex *mutex;          /* MUTEX_STATIC_LRU or NULL */\\n  unsigned int nMaxPage;         /* Sum of nMax for purgeable caches */\\n  unsigned int nMinPage;         /* Sum of nMin for purgeable caches */\\n  unsigned int mxPinned;         /* nMaxpage + 10 - nMinPage */\\n  unsigned int nPurgeable;       /* Number of purgeable pages allocated */\\n  PgHdr1 lru;                    /* The beginning and end of the LRU list */\\n}\", \"label\": \"struct PGroup {\\n  sqlite3_mutex *mutex;          /* MUTEX_STATIC_LRU or NULL */\\n  unsigned int nMaxPage;         /* Sum of nMax for purgeable caches */\\n  unsigned int nMinPage;         /* Sum of nMin for purgeable caches */\\n  unsigned int mxPinned;         /* nMaxpage + 10 - nMinPage */\\n  unsigned int nPurgeable;       /* Number of purgeable pages allocated */\\n  PgHdr1 lru;                    /* The beginning and end of the LRU list */\\n}\"}, {\"similarity\": -8.771264002930913, \"gid\": 8221015530682199792, \"start_line\": 63922, \"start_column\": 1, \"end_line\": 63928, \"end_column\": 1, \"file\": \"/sqlite3.c\", \"clang_source_range_as_text\": \"struct CellInfo {\\n  i64 nKey;      /* The key for INTKEY tables, or nPayload otherwise */\\n  u8 *pPayload;  /* Pointer to the start of payload */\\n  u32 nPayload;  /* Bytes of payload */\\n  u16 nLocal;    /* Amount of payload held locally, not on overflow */\\n  u16 nSize;     /* Size of the cell content on the main b-tree page */\\n}\", \"label\": \"struct CellInfo {\\n  i64 nKey;      /* The key for INTKEY tables, or nPayload otherwise */\\n  u8 *pPayload;  /* Pointer to the start of payload */\\n  u32 nPayload;  /* Bytes of payload */\\n  u16 nLocal;    /* Amount of payload held locally, not on overflow */\\n  u16 nSize;     /* Size of the cell content on the main b-tree page */\\n}\"}]</div><p>Results viewable in the find-tune panel.</p>",
      "text/plain": "<IPython.core.display.HTML object>"
     },
     "metadata": {},
     "output_type": "display_data"
    }
   ],
   "source": [
    "(\n",
    "  project\n",
    "    .query()\n",
    "    .records()\n",
    "    .comment_semantically_similar_to(\"page cache\")\n",
    "    .make_visualizable()\n",
    "    .select()\n",
    "    .execute()\n",
    "    .display()\n",
    ")"
   ]
  },
  {
   "cell_type": "code",
   "execution_count": 4,
   "metadata": {
    "vscode": {
     "end_execution_time": "2020-08-21T19:54:17.114Z",
     "start_execution_time": "2020-08-21T19:54:16.054Z"
    }
   },
   "outputs": [
    {
     "data": {
      "text/html": "<div class=\"findtune\" style=\"display: none;\">[{\"similarity\": 21.08563843407837, \"gid\": 372091487415462832, \"start_line\": 52374, \"start_column\": 3, \"end_line\": 52374, \"end_column\": 17, \"file\": \"/sqlite3.c\", \"clang_source_range_as_text\": \"sqlite3_int64 szMmap\", \"label\": \"sqlite3_int64 szMmap\"}, {\"similarity\": 19.41108554421146, \"gid\": 3206429984772945434, \"start_line\": 19026, \"start_column\": 3, \"end_line\": 19026, \"end_column\": 7, \"file\": \"/sqlite3.c\", \"clang_source_range_as_text\": \"int mnReq\", \"label\": \"int mnReq\"}, {\"similarity\": 19.41108554421146, \"gid\": 3804275327398309800, \"start_line\": 19026, \"start_column\": 3, \"end_line\": 19026, \"end_column\": 14, \"file\": \"/sqlite3.c\", \"clang_source_range_as_text\": \"int mnReq, mxReq\", \"label\": \"int mnReq, mxReq\"}, {\"similarity\": 8.773992175976897, \"gid\": 3858202644314361729, \"start_line\": 63881, \"start_column\": 3, \"end_line\": 63881, \"end_column\": 6, \"file\": \"/sqlite3.c\", \"clang_source_range_as_text\": \"u8 nReserveWanted\", \"label\": \"u8 nReserveWanted\"}, {\"similarity\": 0.5795944003346598, \"gid\": 4346676851091745173, \"start_line\": 59793, \"start_column\": 3, \"end_line\": 59793, \"end_column\": 7, \"file\": \"/sqlite3.c\", \"clang_source_range_as_text\": \"u32 notUsed0\", \"label\": \"u32 notUsed0\"}, {\"similarity\": -3.9496230405372534, \"gid\": -406913567863547190, \"start_line\": 141377, \"start_column\": 3, \"end_line\": 141377, \"end_column\": 7, \"file\": \"/sqlite3.c\", \"clang_source_range_as_text\": \"int iContinue\", \"label\": \"int iContinue\"}, {\"similarity\": -7.820586731036117, \"gid\": -3202197635115906979, \"start_line\": 19025, \"start_column\": 3, \"end_line\": 19025, \"end_column\": 7, \"file\": \"/sqlite3.c\", \"clang_source_range_as_text\": \"int nHeap\", \"label\": \"int nHeap\"}]</div><p>Results viewable in the find-tune panel.</p>",
      "text/plain": "<IPython.core.display.HTML object>"
     },
     "metadata": {},
     "output_type": "display_data"
    }
   ],
   "source": [
    "(project\n",
    "  .query()\n",
    "  .records()\n",
    "  .fields()\n",
    "  .integers()\n",
    "  .comment_semantically_similar_to([\"desired\", \"size\"])\n",
    "  .make_visualizable()\n",
    "  .select()\n",
    "  .execute()\n",
    "  .display()\n",
    ")"
   ]
  }
 ],
 "metadata": {
  "kernelspec": {
   "display_name": "Python 2.7.16 64-bit",
   "name": "python_defaultSpec_1598285055658"
  },
  "language_info": {
   "codemirror_mode": {
    "name": "ipython",
    "version": 3
   },
   "file_extension": ".py",
   "mimetype": "text/x-python",
   "name": "python",
   "nbconvert_exporter": "python",
   "pygments_lexer": "ipython3",
   "version": "2.7.16-final"
  },
  "orig_nbformat": 2
 },
 "nbformat": 4,
 "nbformat_minor": 2
}