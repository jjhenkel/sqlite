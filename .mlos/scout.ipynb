{
 "cells": [
  {
   "cell_type": "code",
   "execution_count": 1,
   "metadata": {
    "tags": [],
    "vscode": {
     "end_execution_time": "2020-08-25T02:11:48.257Z",
     "start_execution_time": "2020-08-25T02:11:43.160Z"
    }
   },
   "outputs": [],
   "source": [
    "# Install our (local, for now) pip package \r\n",
    "!python3 -m pip install -e C://Users/t-jorhen/Documents/GitHub/find-tune"
   ]
  },
  {
   "cell_type": "code",
   "execution_count": 1,
   "metadata": {
    "tags": [],
    "vscode": {
     "end_execution_time": "2020-08-25T02:31:09.069Z",
     "start_execution_time": "2020-08-25T02:31:00.320Z"
    }
   },
   "outputs": [
    {
     "name": "stderr",
     "output_type": "stream",
     "text": [
      "- Verifying environment...\n",
      "   ✓ Environment verification complete\n",
      "- Creating project from current git repository...\n",
      "   - Getting project name: \n",
      "      + project-name:='https://github.com/jjhenkel/sqlite'\n",
      "   - Getting project commit hash: \n",
      "      + project-commit:='ff0c42866cee7e9b8b84a31266aa744ebe7d8bcd'\n",
      "- Ensuring infrastructure is allocated...\n",
      "\u001b[K   ✓ Found resource group 'FindTune-EUS'\n",
      "\u001b[33m⠧\u001b[0m Provisioning 'findtune-az-autogen-vnet-140269'\u001b[K\u001b[K   ✓ Using existing vnet: 'findtune-az-autogen-vnet-801663' (['10.0.0.0/16'])\n",
      "   ✓ Using existing subnet: 'findtune-az-autogen-subnet-806943' (10.0.0.0/24)\n",
      "\u001b[K   ✓ Using existing ip: 'findtune-az-autogen-ip-ft-db-211043' (52.226.50.179)\n",
      "   ✓ Using existing vm: 'findtune-az-autogen-vm-ft-db-500381'\n",
      "- Attaching...\n",
      "\u001b[33m⠧\u001b[0m Starting 'findtune-az-autogen-vm-ft-db-500381'\u001b[K\u001b[K   ✓ 'findtune-az-autogen-vm-ft-db-500381' is running!\n",
      "\u001b[K   ✓ Skipping DB create. Database 'targets-sqlite' already exists!\n",
      "   ✓ Attached. Ready to run queries\n"
     ]
    },
    {
     "data": {
      "text/html": "<div class=\"findtune\" style=\"display: none;\">{\"POSTGRES_HOST\": \"52.226.50.179\", \"POSTGRES_USER\": \"ft-admin\", \"POSTGRES_PASSWORD\": \"vie0thahnahpheKe\", \"POSTGRES_DB\": \"targets-sqlite\"}</div>",
      "text/plain": "<IPython.core.display.HTML object>"
     },
     "metadata": {},
     "output_type": "display_data"
    }
   ],
   "source": [
    "import mlos\r\n",
    "\r\n",
    "mlos.set_project_dir('C://Users/t-jorhen/Documents/GitHub/sqlite/.mlos')\r\n",
    "mlos.checkenv(using_azure=True)\r\n",
    "\r\n",
    "project = (\r\n",
    "    mlos\r\n",
    "    .create_project_from_git_info()\r\n",
    "    .with_backend(mlos.backends().azure())\r\n",
    "    .with_build_options(mlos.build_options())\r\n",
    ")\r\n",
    "\r\n",
    "project.attach(db_only=True)"
   ]
  },
  {
   "cell_type": "code",
   "execution_count": 2,
   "metadata": {
    "tags": [],
    "vscode": {
     "end_execution_time": "2020-08-19T21:54:12.541Z",
     "start_execution_time": "2020-08-19T21:51:44.826Z"
    }
   },
   "outputs": [],
   "source": [
    "project.ingest()"
   ]
  },
  {
   "cell_type": "code",
   "execution_count": 3,
   "metadata": {
    "tags": [],
    "vscode": {
     "end_execution_time": "2020-08-19T22:08:30.285Z",
     "start_execution_time": "2020-08-19T21:55:33.616Z"
    }
   },
   "outputs": [],
   "source": [
    "project.poll_status()"
   ]
  },
  {
   "cell_type": "code",
   "execution_count": 4,
   "metadata": {
    "tags": [],
    "vscode": {
     "end_execution_time": "2020-08-19T22:09:39.801Z",
     "start_execution_time": "2020-08-19T22:08:38.186Z"
    }
   },
   "outputs": [],
   "source": [
    "project.detach(keep_db=True)"
   ]
  },
  {
   "cell_type": "code",
   "execution_count": 9,
   "metadata": {
    "vscode": {
     "end_execution_time": "2020-08-25T02:33:23.173Z",
     "start_execution_time": "2020-08-25T02:33:22.830Z"
    }
   },
   "outputs": [
    {
     "name": "stdout",
     "output_type": "stream",
     "text": [
      "Uses sqlite3GLOBAL... in 159.0/167.0 (95.21%) of places\n"
     ]
    }
   ],
   "source": [
    "results = (project\n",
    "  .query()\n",
    "  .records()\n",
    "  .name_contains(\"config\")\n",
    "  .make_visualizable()\n",
    "  .fields()\n",
    "  .select_usages()\n",
    "  .from_files_matching('/sqlite3.c')\n",
    "  .execute()\n",
    ").results\n",
    "\n",
    "USES_GLOBAL = float(len([ \n",
    "  x for x in results if 'Global' in x['clang_source_range_as_text']\n",
    "]))\n",
    "\n",
    "TOTAL = float(len(results))\n",
    "\n",
    "print(\"Uses sqlite3GLOBAL... in {}/{} ({:.2%}) of places\".format(\n",
    "  USES_GLOBAL, TOTAL, USES_GLOBAL / TOTAL\n",
    "))"
   ]
  },
  {
   "cell_type": "code",
   "execution_count": 8,
   "metadata": {
    "vscode": {
     "end_execution_time": "2020-08-25T02:33:11.593Z",
     "start_execution_time": "2020-08-25T02:33:11.277Z"
    }
   },
   "outputs": [
    {
     "data": {
      "text/html": "<div class=\"findtune\" style=\"display: none;\">[{\"gid\": -1878978231921796428, \"start_line\": 50584, \"start_column\": 5, \"end_line\": 50584, \"end_column\": 37, \"file\": \"/sqlite3.c\", \"clang_source_range_as_text\": \"pCache->n90pct = pCache->nMax*9/10\", \"label\": \"pCache->n90pct = pCache->nMax*9/10\"}, {\"gid\": 1895907294033749948, \"start_line\": 50914, \"start_column\": 5, \"end_line\": 50914, \"end_column\": 30, \"file\": \"/sqlite3.c\", \"clang_source_range_as_text\": \"pCache->iMaxKey = iLimit-1\", \"label\": \"pCache->iMaxKey = iLimit-1\"}]</div><p>Results viewable in the find-tune panel.</p>",
      "text/plain": "<IPython.core.display.HTML object>"
     },
     "metadata": {},
     "output_type": "display_data"
    }
   ],
   "source": [
    "(project\n",
    "  .query()\n",
    "  .records()\n",
    "  .name_contains(\"cache\")\n",
    "  .field_references()\n",
    "  .restrict_to_assignments(\n",
    "    where_rhs=mlos.filters().arithmetic()\n",
    "  )\n",
    "  .make_visualizable()\n",
    "  .select()\n",
    "  .execute()\n",
    "  .display()\n",
    ")"
   ]
  },
  {
   "cell_type": "code",
   "execution_count": 5,
   "metadata": {
    "vscode": {
     "end_execution_time": "2020-08-25T02:32:20.775Z",
     "start_execution_time": "2020-08-25T02:32:20.288Z"
    }
   },
   "outputs": [
    {
     "data": {
      "text/html": "<div class=\"findtune\" style=\"display: none;\">[{\"similarity\": 12.329137593717299, \"gid\": -473653397361588526, \"start_line\": 16035, \"start_column\": 1, \"end_line\": 16058, \"end_column\": 1, \"file\": \"/sqlite3.c\", \"clang_source_range_as_text\": \"struct PgHdr {\\n  sqlite3_pcache_page *pPage;    /* Pcache object page handle */\\n  void *pData;                   /* Page data */\\n  void *pExtra;                  /* Extra content */\\n  PCache *pCache;                /* PRIVATE: Cache that owns this page */\\n  PgHdr *pDirty;                 /* Transient list of dirty sorted by pgno */\\n  Pager *pPager;                 /* The pager this page is part of */\\n  Pgno pgno;                     /* Page number for this page */\\n#ifdef SQLITE_CHECK_PAGES\\n  u32 pageHash;                  /* Hash of page content */\\n#endif\\n  u16 flags;                     /* PGHDR flags defined below */\\n\\n  /**********************************************************************\\n  ** Elements above, except pCache, are public.  All that follow are\\n  ** private to pcache.c and should not be accessed by other modules.\\n  ** pCache is grouped with the public elements for efficiency.\\n  */\\n  i16 nRef;                      /* Number of users of this page */\\n  PgHdr *pDirtyNext;             /* Next element in list of dirty pages */\\n  PgHdr *pDirtyPrev;             /* Previous element in list of dirty pages */\\n                          /* NB: pDirtyNext and pDirtyPrev are undefined if the\\n                          ** PgHdr object is not dirty */\\n}\", \"label\": \"struct PgHdr {\\n  sqlite3_pcache_page *pPage;    /* Pcache object page handle */\\n  void *pData;                   /* Page data */\\n  void *pExtra;                  /* Extra content */\\n  PCache *pCache;                /* PRIVATE: Cache that owns this page */\\n  PgHdr *pDirty;                 /* Transient list of dirty sorted by pgno */\\n  Pager *pPager;                 /* The pager this page is part of */\\n  Pgno pgno;                     /* Page number for this page */\\n#ifdef SQLITE_CHECK_PAGES\\n  u32 pageHash;                  /* Hash of page content */\\n#endif\\n  u16 flags;                     /* PGHDR flags defined below */\\n\\n  /**********************************************************************\\n  ** Elements above, except pCache, are public.  All that follow are\\n  ** private to pcache.c and should not be accessed by other modules.\\n  ** pCache is grouped with the public elements for efficiency.\\n  */\\n  i16 nRef;                      /* Number of users of this page */\\n  PgHdr *pDirtyNext;             /* Next element in list of dirty pages */\\n  PgHdr *pDirtyPrev;             /* Previous element in list of dirty pages */\\n                          /* NB: pDirtyNext and pDirtyPrev are undefined if the\\n                          ** PgHdr object is not dirty */\\n}\"}, {\"similarity\": -1.9142890716843608, \"gid\": -8817696706890289740, \"start_line\": 49923, \"start_column\": 1, \"end_line\": 49951, \"end_column\": 1, \"file\": \"/sqlite3.c\", \"clang_source_range_as_text\": \"struct PCache1 {\\n  /* Cache configuration parameters. Page size (szPage) and the purgeable\\n  ** flag (bPurgeable) and the pnPurgeable pointer are all set when the\\n  ** cache is created and are never changed thereafter. nMax may be\\n  ** modified at any time by a call to the pcache1Cachesize() method.\\n  ** The PGroup mutex must be held when accessing nMax.\\n  */\\n  PGroup *pGroup;                     /* PGroup this cache belongs to */\\n  unsigned int *pnPurgeable;          /* Pointer to pGroup->nPurgeable */\\n  int szPage;                         /* Size of database content section */\\n  int szExtra;                        /* sizeof(MemPage)+sizeof(PgHdr) */\\n  int szAlloc;                        /* Total size of one pcache line */\\n  int bPurgeable;                     /* True if cache is purgeable */\\n  unsigned int nMin;                  /* Minimum number of pages reserved */\\n  unsigned int nMax;                  /* Configured \\\"cache_size\\\" value */\\n  unsigned int n90pct;                /* nMax*9/10 */\\n  unsigned int iMaxKey;               /* Largest key seen since xTruncate() */\\n  unsigned int nPurgeableDummy;       /* pnPurgeable points here when not used*/\\n\\n  /* Hash table of all pages. The following variables may only be accessed\\n  ** when the accessor is holding the PGroup mutex.\\n  */\\n  unsigned int nRecyclable;           /* Number of pages in the LRU list */\\n  unsigned int nPage;                 /* Total number of pages in apHash */\\n  unsigned int nHash;                 /* Number of slots in apHash[] */\\n  PgHdr1 **apHash;                    /* Hash table for fast lookup by key */\\n  PgHdr1 *pFree;                      /* List of unused pcache-local pages */\\n  void *pBulk;                        /* Bulk memory used by pcache-local */\\n}\", \"label\": \"struct PCache1 {\\n  /* Cache configuration parameters. Page size (szPage) and the purgeable\\n  ** flag (bPurgeable) and the pnPurgeable pointer are all set when the\\n  ** cache is created and are never changed thereafter. nMax may be\\n  ** modified at any time by a call to the pcache1Cachesize() method.\\n  ** The PGroup mutex must be held when accessing nMax.\\n  */\\n  PGroup *pGroup;                     /* PGroup this cache belongs to */\\n  unsigned int *pnPurgeable;          /* Pointer to pGroup->nPurgeable */\\n  int szPage;                         /* Size of database content section */\\n  int szExtra;                        /* sizeof(MemPage)+sizeof(PgHdr) */\\n  int szAlloc;                        /* Total size of one pcache line */\\n  int bPurgeable;                     /* True if cache is purgeable */\\n  unsigned int nMin;                  /* Minimum number of pages reserved */\\n  unsigned int nMax;                  /* Configured \\\"cache_size\\\" value */\\n  unsigned int n90pct;                /* nMax*9/10 */\\n  unsigned int iMaxKey;               /* Largest key seen since xTruncate() */\\n  unsigned int nPurgeableDummy;       /* pnPurgeable points here when not used*/\\n\\n  /* Hash table of all pages. The following variables may only be accessed\\n  ** when the accessor is holding the PGroup mutex.\\n  */\\n  unsigned int nRecyclable;           /* Number of pages in the LRU list */\\n  unsigned int nPage;                 /* Total number of pages in apHash */\\n  unsigned int nHash;                 /* Number of slots in apHash[] */\\n  PgHdr1 **apHash;                    /* Hash table for fast lookup by key */\\n  PgHdr1 *pFree;                      /* List of unused pcache-local pages */\\n  void *pBulk;                        /* Bulk memory used by pcache-local */\\n}\"}, {\"similarity\": -5.243940551553661, \"gid\": 6887885965499682590, \"start_line\": 49964, \"start_column\": 19, \"end_line\": 49988, \"end_column\": 1, \"file\": \"/sqlite3.c\", \"clang_source_range_as_text\": \"struct PCacheGlobal {\\n  PGroup grp;                    /* The global PGroup for mode (2) */\\n\\n  /* Variables related to SQLITE_CONFIG_PAGECACHE settings.  The\\n  ** szSlot, nSlot, pStart, pEnd, nReserve, and isInit values are all\\n  ** fixed at sqlite3_initialize() time and do not require mutex protection.\\n  ** The nFreeSlot and pFree values do require mutex protection.\\n  */\\n  int isInit;                    /* True if initialized */\\n  int separateCache;             /* Use a new PGroup for each PCache */\\n  int nInitPage;                 /* Initial bulk allocation size */\\n  int szSlot;                    /* Size of each free slot */\\n  int nSlot;                     /* The number of pcache slots */\\n  int nReserve;                  /* Try to keep nFreeSlot above this */\\n  void *pStart, *pEnd;           /* Bounds of global page cache memory */\\n  /* Above requires no mutex.  Use mutex below for variable that follow. */\\n  sqlite3_mutex *mutex;          /* Mutex for accessing the following: */\\n  PgFreeslot *pFree;             /* Free page blocks */\\n  int nFreeSlot;                 /* Number of unused pcache slots */\\n  /* The following value requires a mutex to change.  We skip the mutex on\\n  ** reading because (1) most platforms read a 32-bit integer atomically and\\n  ** (2) even if an incorrect value is read, no great harm is done since this\\n  ** is really just an optimization. */\\n  int bUnderPressure;            /* True if low on PAGECACHE memory */\\n}\", \"label\": \"struct PCacheGlobal {\\n  PGroup grp;                    /* The global PGroup for mode (2) */\\n\\n  /* Variables related to SQLITE_CONFIG_PAGECACHE settings.  The\\n  ** szSlot, nSlot, pStart, pEnd, nReserve, and isInit values are all\\n  ** fixed at sqlite3_initialize() time and do not require mutex protection.\\n  ** The nFreeSlot and pFree values do require mutex protection.\\n  */\\n  int isInit;                    /* True if initialized */\\n  int separateCache;             /* Use a new PGroup for each PCache */\\n  int nInitPage;                 /* Initial bulk allocation size */\\n  int szSlot;                    /* Size of each free slot */\\n  int nSlot;                     /* The number of pcache slots */\\n  int nReserve;                  /* Try to keep nFreeSlot above this */\\n  void *pStart, *pEnd;           /* Bounds of global page cache memory */\\n  /* Above requires no mutex.  Use mutex below for variable that follow. */\\n  sqlite3_mutex *mutex;          /* Mutex for accessing the following: */\\n  PgFreeslot *pFree;             /* Free page blocks */\\n  int nFreeSlot;                 /* Number of unused pcache slots */\\n  /* The following value requires a mutex to change.  We skip the mutex on\\n  ** reading because (1) most platforms read a 32-bit integer atomically and\\n  ** (2) even if an incorrect value is read, no great harm is done since this\\n  ** is really just an optimization. */\\n  int bUnderPressure;            /* True if low on PAGECACHE memory */\\n}\"}, {\"similarity\": -5.828734227003851, \"gid\": 6786776565626513224, \"start_line\": 49906, \"start_column\": 1, \"end_line\": 49913, \"end_column\": 1, \"file\": \"/sqlite3.c\", \"clang_source_range_as_text\": \"struct PGroup {\\n  sqlite3_mutex *mutex;          /* MUTEX_STATIC_LRU or NULL */\\n  unsigned int nMaxPage;         /* Sum of nMax for purgeable caches */\\n  unsigned int nMinPage;         /* Sum of nMin for purgeable caches */\\n  unsigned int mxPinned;         /* nMaxpage + 10 - nMinPage */\\n  unsigned int nPurgeable;       /* Number of purgeable pages allocated */\\n  PgHdr1 lru;                    /* The beginning and end of the LRU list */\\n}\", \"label\": \"struct PGroup {\\n  sqlite3_mutex *mutex;          /* MUTEX_STATIC_LRU or NULL */\\n  unsigned int nMaxPage;         /* Sum of nMax for purgeable caches */\\n  unsigned int nMinPage;         /* Sum of nMin for purgeable caches */\\n  unsigned int mxPinned;         /* nMaxpage + 10 - nMinPage */\\n  unsigned int nPurgeable;       /* Number of purgeable pages allocated */\\n  PgHdr1 lru;                    /* The beginning and end of the LRU list */\\n}\"}, {\"similarity\": -8.771258836519857, \"gid\": 8221015530682199792, \"start_line\": 63922, \"start_column\": 1, \"end_line\": 63928, \"end_column\": 1, \"file\": \"/sqlite3.c\", \"clang_source_range_as_text\": \"struct CellInfo {\\n  i64 nKey;      /* The key for INTKEY tables, or nPayload otherwise */\\n  u8 *pPayload;  /* Pointer to the start of payload */\\n  u32 nPayload;  /* Bytes of payload */\\n  u16 nLocal;    /* Amount of payload held locally, not on overflow */\\n  u16 nSize;     /* Size of the cell content on the main b-tree page */\\n}\", \"label\": \"struct CellInfo {\\n  i64 nKey;      /* The key for INTKEY tables, or nPayload otherwise */\\n  u8 *pPayload;  /* Pointer to the start of payload */\\n  u32 nPayload;  /* Bytes of payload */\\n  u16 nLocal;    /* Amount of payload held locally, not on overflow */\\n  u16 nSize;     /* Size of the cell content on the main b-tree page */\\n}\"}]</div><p>Results viewable in the find-tune panel.</p>",
      "text/plain": "<IPython.core.display.HTML object>"
     },
     "metadata": {},
     "output_type": "display_data"
    }
   ],
   "source": [
    "(\r\n",
    "  project\r\n",
    "    .query()\r\n",
    "    .records()\r\n",
    "    .comment_semantically_similar_to(\"page cache\")\r\n",
    "    .make_visualizable()\r\n",
    "    .select()\r\n",
    "    .execute()\r\n",
    "    .display()\r\n",
    ")"
   ]
  },
  {
   "cell_type": "code",
   "execution_count": 7,
   "metadata": {
    "vscode": {
     "end_execution_time": "2020-08-25T02:33:09.061Z",
     "start_execution_time": "2020-08-25T02:33:08.536Z"
    }
   },
   "outputs": [
    {
     "data": {
      "text/html": "<div class=\"findtune\" style=\"display: none;\">[{\"similarity\": 21.08563923605421, \"gid\": 372091487415462832, \"start_line\": 52374, \"start_column\": 3, \"end_line\": 52374, \"end_column\": 17, \"file\": \"/sqlite3.c\", \"clang_source_range_as_text\": \"sqlite3_int64 szMmap\", \"label\": \"sqlite3_int64 szMmap\"}, {\"similarity\": 19.411076410499383, \"gid\": 3206429984772945434, \"start_line\": 19026, \"start_column\": 3, \"end_line\": 19026, \"end_column\": 7, \"file\": \"/sqlite3.c\", \"clang_source_range_as_text\": \"int mnReq\", \"label\": \"int mnReq\"}, {\"similarity\": 19.411076410499383, \"gid\": 3804275327398309800, \"start_line\": 19026, \"start_column\": 3, \"end_line\": 19026, \"end_column\": 14, \"file\": \"/sqlite3.c\", \"clang_source_range_as_text\": \"int mnReq, mxReq\", \"label\": \"int mnReq, mxReq\"}, {\"similarity\": 8.773998505669766, \"gid\": 3858202644314361729, \"start_line\": 63881, \"start_column\": 3, \"end_line\": 63881, \"end_column\": 6, \"file\": \"/sqlite3.c\", \"clang_source_range_as_text\": \"u8 nReserveWanted\", \"label\": \"u8 nReserveWanted\"}, {\"similarity\": 0.5796100733960974, \"gid\": 4346676851091745173, \"start_line\": 59793, \"start_column\": 3, \"end_line\": 59793, \"end_column\": 7, \"file\": \"/sqlite3.c\", \"clang_source_range_as_text\": \"u32 notUsed0\", \"label\": \"u32 notUsed0\"}, {\"similarity\": -3.949621265678882, \"gid\": -406913567863547190, \"start_line\": 141377, \"start_column\": 3, \"end_line\": 141377, \"end_column\": 7, \"file\": \"/sqlite3.c\", \"clang_source_range_as_text\": \"int iContinue\", \"label\": \"int iContinue\"}, {\"similarity\": -7.820588226572811, \"gid\": -3202197635115906979, \"start_line\": 19025, \"start_column\": 3, \"end_line\": 19025, \"end_column\": 7, \"file\": \"/sqlite3.c\", \"clang_source_range_as_text\": \"int nHeap\", \"label\": \"int nHeap\"}]</div><p>Results viewable in the find-tune panel.</p>",
      "text/plain": "<IPython.core.display.HTML object>"
     },
     "metadata": {},
     "output_type": "display_data"
    }
   ],
   "source": [
    "(project\r\n",
    "  .query()\r\n",
    "  .records()\r\n",
    "  .fields()\r\n",
    "  .integers()\r\n",
    "  .comment_semantically_similar_to(\"desired size\")\r\n",
    "  .make_visualizable()\r\n",
    "  .select()\r\n",
    "  .execute()\r\n",
    "  .display()\r\n",
    ")"
   ]
  },
  {
   "cell_type": "code",
   "execution_count": 8,
   "metadata": {
    "vscode": {
     "end_execution_time": "2020-08-25T02:17:55.206Z",
     "start_execution_time": "2020-08-25T02:17:54.920Z"
    }
   },
   "outputs": [
    {
     "data": {
      "text/html": "<div class=\"findtune\" style=\"display: none;\">[{\"gid\": -6601265795583657723, \"start_line\": 50071, \"start_column\": 7, \"end_line\": 50071, \"end_column\": 16, \"file\": \"/sqlite3.c\", \"clang_source_range_as_text\": \"pX->page.pExtra\", \"label\": \"pX->page.pExtra\"}, {\"gid\": -6550468129576248515, \"start_line\": 50219, \"start_column\": 5, \"end_line\": 50219, \"end_column\": 13, \"file\": \"/sqlite3.c\", \"clang_source_range_as_text\": \"p->page.pBuf\", \"label\": \"p->page.pBuf\"}, {\"gid\": -3737286611661548041, \"start_line\": 49345, \"start_column\": 19, \"end_line\": 49345, \"end_column\": 26, \"file\": \"/sqlite3.c\", \"clang_source_range_as_text\": \"pPage->pBuf\", \"label\": \"pPage->pBuf\"}, {\"gid\": -1346012675044766934, \"start_line\": 49538, \"start_column\": 16, \"end_line\": 49538, \"end_column\": 24, \"file\": \"/sqlite3.c\", \"clang_source_range_as_text\": \"pPage1->pBuf\", \"label\": \"pPage1->pBuf\"}, {\"gid\": -645276621973722078, \"start_line\": 50240, \"start_column\": 17, \"end_line\": 50240, \"end_column\": 25, \"file\": \"/sqlite3.c\", \"clang_source_range_as_text\": \"p->page.pBuf\", \"label\": \"p->page.pBuf\"}, {\"gid\": 2077725702624805868, \"start_line\": 49368, \"start_column\": 21, \"end_line\": 49368, \"end_column\": 28, \"file\": \"/sqlite3.c\", \"clang_source_range_as_text\": \"pPage->pExtra\", \"label\": \"pPage->pExtra\"}, {\"gid\": 5606911434437257772, \"start_line\": 49341, \"start_column\": 20, \"end_line\": 49341, \"end_column\": 27, \"file\": \"/sqlite3.c\", \"clang_source_range_as_text\": \"pPage->pExtra\", \"label\": \"pPage->pExtra\"}, {\"gid\": 7714701376667884548, \"start_line\": 50070, \"start_column\": 7, \"end_line\": 50070, \"end_column\": 16, \"file\": \"/sqlite3.c\", \"clang_source_range_as_text\": \"pX->page.pBuf\", \"label\": \"pX->page.pBuf\"}, {\"gid\": 7955368591344124060, \"start_line\": 50220, \"start_column\": 5, \"end_line\": 50220, \"end_column\": 13, \"file\": \"/sqlite3.c\", \"clang_source_range_as_text\": \"p->page.pExtra\", \"label\": \"p->page.pExtra\"}, {\"gid\": 8461909301967334727, \"start_line\": 50690, \"start_column\": 15, \"end_line\": 50690, \"end_column\": 27, \"file\": \"/sqlite3.c\", \"clang_source_range_as_text\": \"pPage->page.pExtra\", \"label\": \"pPage->page.pExtra\"}]</div><p>Results viewable in the find-tune panel.</p>",
      "text/plain": "<IPython.core.display.HTML object>"
     },
     "metadata": {},
     "output_type": "display_data"
    }
   ],
   "source": [
    "(project\r\n",
    "    .query()\r\n",
    "    .records()\r\n",
    "    .name_contains(\"sqlite3_pcache_page\")\r\n",
    "    .fields()\r\n",
    "    .make_visualizable()\r\n",
    "    .select_usages()\r\n",
    "    .execute()\r\n",
    "    .display()\r\n",
    ")"
   ]
  },
  {
   "cell_type": "code",
   "execution_count": 17,
   "metadata": {
    "vscode": {
     "end_execution_time": "2020-08-25T02:35:56.781Z",
     "start_execution_time": "2020-08-25T02:35:56.407Z"
    }
   },
   "outputs": [
    {
     "data": {
      "text/html": "<div class=\"findtune\" style=\"display: none;\">[{\"gid\": -9220233692316347028, \"start_line\": 126602, \"start_column\": 7, \"end_line\": 126606, \"end_column\": 7, \"file\": \"/sqlite3.c\", \"clang_source_range_as_text\": \"if( sqlite3GetBoolean(zRight, size!=0) ){\\n        db->flags |= SQLITE_CacheSpill;\\n      }else{\\n        db->flags &= ~(u64)SQLITE_CacheSpill;\\n      }\", \"label\": \"if( sqlite3GetBoolean(zRight, size!=0) ){\\n        db->flags |= SQLITE_CacheSpill;\\n      }else{\\n        db->flags &= ~(u64)SQLITE_CacheSpill;\\n      }\"}, {\"gid\": -9220170950656067238, \"start_line\": 65242, \"start_column\": 9, \"end_line\": 65244, \"end_column\": 9, \"file\": \"/sqlite3.c\", \"clang_source_range_as_text\": \"if( SQLITE_OK!=rc ){\\n          return rc;\\n        }\", \"label\": \"if( SQLITE_OK!=rc ){\\n          return rc;\\n        }\"}, {\"gid\": -9218028102290140381, \"start_line\": 31622, \"start_column\": 3, \"end_line\": 31622, \"end_column\": 24, \"file\": \"/sqlite3.c\", \"clang_source_range_as_text\": \"if( z>=zEnd ) return 0\", \"label\": \"if( z>=zEnd ) return 0\"}, {\"gid\": -9213791560720184654, \"start_line\": 112711, \"start_column\": 5, \"end_line\": 112718, \"end_column\": 5, \"file\": \"/sqlite3.c\", \"clang_source_range_as_text\": \"if( pParse->nErr ){\\n      /* If errors are seen, delete the CHECK constraints now, else they might\\n      ** actually be used if PRAGMA writable_schema=ON is set. */\\n      sqlite3ExprListDelete(db, p->pCheck);\\n      p->pCheck = 0;\\n    }else{\\n      markExprListImmutable(p->pCheck);\\n    }\", \"label\": \"if( pParse->nErr ){\\n      /* If errors are seen, delete the CHECK constraints now, else they might\\n      ** actually be used if PRAGMA writable_schema=ON is set. */\\n      sqlite3ExprListDelete(db, p->pCheck);\\n      p->pCheck = 0;\\n    }else{\\n      markExprListImmutable(p->pCheck);\\n    }\"}, {\"gid\": -9210996920076804756, \"start_line\": 76059, \"start_column\": 3, \"end_line\": 76071, \"end_column\": 3, \"file\": \"/sqlite3.c\", \"clang_source_range_as_text\": \"if( pMem->szMalloc>0 && bPreserve && pMem->z==pMem->zMalloc ){\\n    if( pMem->db ){\\n      pMem->z = pMem->zMalloc = sqlite3DbReallocOrFree(pMem->db, pMem->z, n);\\n    }else{\\n      pMem->zMalloc = sqlite3Realloc(pMem->z, n);\\n      if( pMem->zMalloc==0 ) sqlite3_free(pMem->z);\\n      pMem->z = pMem->zMalloc;\\n    }\\n    bPreserve = 0;\\n  }else{\\n    if( pMem->szMalloc>0 ) sqlite3DbFreeNN(pMem->db, pMem->zMalloc);\\n    pMem->zMalloc = sqlite3DbMallocRaw(pMem->db, n);\\n  }\", \"label\": \"if( pMem->szMalloc>0 && bPreserve && pMem->z==pMem->zMalloc ){\\n    if( pMem->db ){\\n      pMem->z = pMem->zMalloc = sqlite3DbReallocOrFree(pMem->db, pMem->z, n);\\n    }else{\\n      pMem->zMalloc = sqlite3Realloc(pMem->z, n);\\n      if( pMem->zMalloc==0 ) sqlite3_free(pMem->z);\\n      pMem->z = pMem->zMalloc;\\n    }\\n    bPreserve = 0;\\n  }else{\\n    if( pMem->szMalloc>0 ) sqlite3DbFreeNN(pMem->db, pMem->zMalloc);\\n    pMem->zMalloc = sqlite3DbMallocRaw(pMem->db, n);\\n  }\"}, {\"gid\": -9207728121097885123, \"start_line\": 90707, \"start_column\": 3, \"end_line\": 90707, \"end_column\": 17, \"file\": \"/sqlite3.c\", \"clang_source_range_as_text\": \"if( rc ) goto abort_due_to_error\", \"label\": \"if( rc ) goto abort_due_to_error\"}, {\"gid\": -9205421995828014756, \"start_line\": 81293, \"start_column\": 5, \"end_line\": 81297, \"end_column\": 5, \"file\": \"/sqlite3.c\", \"clang_source_range_as_text\": \"if( p->aAltMap && (iMap = p->aAltMap[1+*piCol])>0 && !p->nullRow ){\\n      *pp = p->pAltCursor;\\n      *piCol = iMap - 1;\\n      return SQLITE_OK;\\n    }\", \"label\": \"if( p->aAltMap && (iMap = p->aAltMap[1+*piCol])>0 && !p->nullRow ){\\n      *pp = p->pAltCursor;\\n      *piCol = iMap - 1;\\n      return SQLITE_OK;\\n    }\"}, {\"gid\": -9202474772693390021, \"start_line\": 3661, \"start_column\": 3, \"end_line\": 3666, \"end_column\": 3, \"file\": \"tool/lemon.c\", \"clang_source_range_as_text\": \"if( tpltname==0 ){\\n    fprintf(stderr,\\\"Can't find the parser driver template file \\\\\\\"%s\\\\\\\".\\\\n\\\",\\n    templatename);\\n    lemp->errorcnt++;\\n    return 0;\\n  }\", \"label\": \"if( tpltname==0 ){\\n    fprintf(stderr,\\\"Can't find the parser driver template file \\\\\\\"%s\\\\\\\".\\\\n\\\",\\n    templatename);\\n    lemp->errorcnt++;\\n    return 0;\\n  }\"}, {\"gid\": -9201304989434213045, \"start_line\": 150110, \"start_column\": 9, \"end_line\": 150110, \"end_column\": 24, \"file\": \"/sqlite3.c\", \"clang_source_range_as_text\": \"if( pTerm==0 ) break\", \"label\": \"if( pTerm==0 ) break\"}, {\"gid\": -9199450523318569865, \"start_line\": 21678, \"start_column\": 9, \"end_line\": 21681, \"end_column\": 9, \"file\": \"/sqlite3.c\", \"clang_source_range_as_text\": \"if( db->aDb[i].pBt ){\\n          Pager *pPager = sqlite3BtreePager(db->aDb[i].pBt);\\n          sqlite3PagerCacheStat(pPager, op, resetFlag, &nRet);\\n        }\", \"label\": \"if( db->aDb[i].pBt ){\\n          Pager *pPager = sqlite3BtreePager(db->aDb[i].pBt);\\n          sqlite3PagerCacheStat(pPager, op, resetFlag, &nRet);\\n        }\"}]</div><p>Results viewable in the find-tune panel.</p>",
      "text/plain": "<IPython.core.display.HTML object>"
     },
     "metadata": {},
     "output_type": "display_data"
    }
   ],
   "source": [
    "(project.query().ifs().make_visualizable().select().limit(10).execute().display())"
   ]
  }
 ],
 "metadata": {
  "kernelspec": {
   "display_name": "Python 3.7.4 64-bit",
   "name": "python37464bitdad44b7654dd4770a9c212923f04b368"
  },
  "language_info": {
   "codemirror_mode": {
    "name": "ipython",
    "version": 3
   },
   "file_extension": ".py",
   "mimetype": "text/x-python",
   "name": "python",
   "nbconvert_exporter": "python",
   "pygments_lexer": "ipython3",
   "version": "3.7.4-final"
  },
  "orig_nbformat": 2
 },
 "nbformat": 4,
 "nbformat_minor": 2
}