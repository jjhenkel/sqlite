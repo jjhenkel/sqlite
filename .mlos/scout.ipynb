{
 "metadata": {
  "language_info": {
   "codemirror_mode": {
    "name": "ipython",
    "version": 3
   },
   "file_extension": ".py",
   "mimetype": "text/x-python",
   "name": "python",
   "nbconvert_exporter": "python",
   "pygments_lexer": "ipython3",
   "version": "3.7.3-final"
  },
  "orig_nbformat": 2,
  "kernelspec": {
   "name": "python_defaultSpec_1596315604508",
   "display_name": "Python 3.7.3 64-bit"
  }
 },
 "nbformat": 4,
 "nbformat_minor": 2,
 "cells": [
  {
   "cell_type": "code",
   "execution_count": null,
   "metadata": {
    "tags": []
   },
   "outputs": [],
   "source": [
    "# Install our (local, for now) pip package \n",
    "!pip3 install -e /home/jjhenkel/mount/velveeta/find-tune"
   ]
  },
  {
   "cell_type": "code",
   "execution_count": null,
   "metadata": {
    "tags": []
   },
   "outputs": [],
   "source": [
    "# Create azure auth stuff (service principal for container operations)\n",
    "!az ad sp create-for-rbac --sdk-auth > ./.auth/gsl-find-tune-sp.json \n",
    "\n",
    "# Setup .auth/.env (these are secret, so nothing included here)"
   ]
  },
  {
   "cell_type": "code",
   "execution_count": 1,
   "metadata": {
    "tags": []
   },
   "outputs": [
    {
     "output_type": "stream",
     "name": "stderr",
     "text": "- Verifying environment...\n   - Checking for 'POSTGRES_PASSWORD' in environment...\n      + Found POSTGRES_PASSWORD:=****************\n   - Checking for 'POSTGRES_USER' in environment...\n      + Found POSTGRES_USER:=ft-admin\n   - Checking for 'POSTGRES_PORT' in environment...\n      + Found POSTGRES_PORT:=5432\n   - Checking for 'MIDDLEWARE_PORT' in environment...\n      + Found MIDDLEWARE_PORT:=8123\n   - Checking for 'DOCKER_HUB_USER' in environment...\n      + Found DOCKER_HUB_USER:=findtune\n   - Checking for 'DOCKER_HUB_PASSWORD' in environment...\n      + Found DOCKER_HUB_PASSWORD:=***************\n   - Checking for 'AZURE_RESOURCE_GROUP' in environment...\n      + Found AZURE_RESOURCE_GROUP:=FindTune-EUS\n   - Checking for 'AZURE_AUTH_LOCATION' in environment...\n      + Found AZURE_AUTH_LOCATION:=.auth/gsl-find-tune-sp.json\n   + Environment verification complete\n- Creating project from current git repository...\n   - Getting project name: \n      + project-name:='https://github.com/jjhenkel/leveldb'\n   - Getting project commit hash: \n      + project-commit:='1454924aacba2ea3cdf183bbed512566a600b05a'\n- Allocating backend resources: backend_type:=MlosBackendAzure\n\u001b[K   ✅ Found resource group 'FindTune-EUS'\n\u001b[K   ✅ Using existing vnet: 'findtune-az-autogen-vnet-282629' (['10.0.0.0/16'])\n   ✅ Using existing subnet: 'findtune-az-autogen-subnet-824079' (10.0.0.0/24)\n\u001b[K   ✅ Using existing ip: 'findtune-az-autogen-ip-ft-db-328849' (52.186.99.213)\n   ✅ Using existing vm: 'findtune-az-autogen-vm-ft-db-494100'\n\u001b[K   ✅ Using existing vnet: 'findtune-az-autogen-vnet-282629' (['10.0.0.0/16'])\n   ✅ Using existing subnet: 'findtune-az-autogen-subnet-824079' (10.0.0.0/24)\n\u001b[K   ✅ Using existing ip: 'findtune-az-autogen-ip-ft-build-794055' (52.186.103.158)\n   ✅ Using existing vm: 'findtune-az-autogen-vm-ft-build-941005'\n\u001b[K   ✅ Using existing vnet: 'findtune-az-autogen-vnet-282629' (['10.0.0.0/16'])\n   ✅ Using existing subnet: 'findtune-az-autogen-subnet-824079' (10.0.0.0/24)\n\u001b[K   ✅ Using existing ip: 'findtune-az-autogen-ip-ft-embed-822586' (52.190.25.239)\n   ✅ Using existing vm: 'findtune-az-autogen-vm-ft-embed-257129'\n"
    }
   ],
   "source": [
    "import mlos\n",
    "\n",
    "mlos.checkenv(using_azure=True)\n",
    "\n",
    "project = (\n",
    "  mlos.create_project_from_git_info()\n",
    "      .with_backend(\n",
    "          mlos.backends()\n",
    "              .azure()\n",
    "      )\n",
    "      .with_build_options(\n",
    "          mlos.build_options()\n",
    "              .compile_with_n_threads(lambda cpu_threads: cpu_threads // 2)\n",
    "              .override_plugin(\n",
    "                  '/home/jjhenkel/mount/velveeta/find-tune/frontends/clang/src/libDumpDatalog.so'\n",
    "              )\n",
    "      )\n",
    ")\n",
    "\n",
    "# Creates backend resources (VMs / nsgs / ips / etc.)\n",
    "project.allocate(attach=True, just_db=True)"
   ]
  },
  {
   "cell_type": "code",
   "execution_count": null,
   "metadata": {
    "tags": []
   },
   "outputs": [],
   "source": [
    "# Remotely builds + ingests this code for analysis\n",
    "project.ingest()"
   ]
  },
  {
   "cell_type": "code",
   "execution_count": 14,
   "metadata": {
    "tags": []
   },
   "outputs": [
    {
     "output_type": "stream",
     "name": "stderr",
     "text": "- Polling for remote build status...\n   * Built /app/table/merger.cc @2020-08-04 17:09:40.747614+00:00\n   * Built /app/util/arena.cc @2020-08-04 17:10:57.803679+00:00\n   * Built /app/util/bloom.cc @2020-08-04 17:11:02.436208+00:00\n   * Built /app/table/iterator.cc @2020-08-04 17:11:06.408695+00:00\n   * Built /app/util/filter_policy.cc @2020-08-04 17:11:10.800569+00:00\n   * Built /app/util/options.cc @2020-08-04 17:11:31.880521+00:00\n   * Built /app/util/env.cc @2020-08-04 17:11:36.969249+00:00\n   * Built /app/util/coding.cc @2020-08-04 17:11:42.298382+00:00\n   * Built /app/table/two_level_iterator.cc @2020-08-04 17:11:49.455263+00:00\n   * Built /app/util/status.cc @2020-08-04 17:11:54.209595+00:00\n   * Built /app/util/cache.cc @2020-08-04 17:12:00.748802+00:00\n   * Built /app/util/crc32c.cc @2020-08-04 17:12:12.827319+00:00\n   * Built /app/db/filename.cc @2020-08-04 17:12:17.962587+00:00\n   * Built /app/util/hash.cc @2020-08-04 17:12:23.887749+00:00\n   * Built /app/table/format.cc @2020-08-04 17:12:29.375287+00:00\n   * Built /app/table/block_builder.cc @2020-08-04 17:12:37.930800+00:00\n   * Built /app/db/c.cc @2020-08-04 17:12:49.701889+00:00\n   * Built /app/db/memtable.cc @2020-08-04 17:12:56.454756+00:00\n   * Built /app/db/write_batch.cc @2020-08-04 17:13:02.049390+00:00\n   * Built /app/db/log_writer.cc @2020-08-04 17:13:06.206789+00:00\n   * Built /app/db/table_cache.cc @2020-08-04 17:13:10.341819+00:00\n   * Built /app/table/table.cc @2020-08-04 17:13:15.043139+00:00\n   * Built /app/util/logging.cc @2020-08-04 17:13:25.620238+00:00\n   * Built /app/table/block.cc @2020-08-04 17:13:30.766779+00:00\n   * Built /app/util/comparator.cc @2020-08-04 17:13:35.313450+00:00\n   * Built /app/table/table_builder.cc @2020-08-04 17:13:39.313940+00:00\n   * Built /app/db/log_reader.cc @2020-08-04 17:13:43.932164+00:00\n   * Built /app/table/filter_block.cc @2020-08-04 17:13:48.565492+00:00\n   * Built /app/db/db_iter.cc @2020-08-04 17:13:53.116353+00:00\n   * Built /app/helpers/memenv/memenv.cc @2020-08-04 17:14:04.576481+00:00\n   * Built /app/db/builder.cc @2020-08-04 17:14:14.479402+00:00\n   * Built /app/db/dumpfile.cc @2020-08-04 17:14:19.987278+00:00\n   * Built /app/db/version_edit.cc @2020-08-04 17:14:24.825689+00:00\n"
    }
   ],
   "source": [
    "project.poll_status()"
   ]
  },
  {
   "cell_type": "code",
   "execution_count": null,
   "metadata": {
    "tags": []
   },
   "outputs": [],
   "source": [
    "# Ensures backend resources are cleaned up  \n",
    "project.deallocate() # detach=True (detach just \"lets go\" and maybe stops VMs, False incurs a delete and maybe prompts user for conf)"
   ]
  },
  {
   "cell_type": "code",
   "execution_count": 12,
   "metadata": {
    "tags": []
   },
   "outputs": [],
   "source": [
    "import psycopg2\n",
    "import psycopg2.extras\n",
    "\n",
    "conn = psycopg2.connect(project.backend.db_conn_str)\n",
    "cursor = conn.cursor(cursor_factory=psycopg2.extras.RealDictCursor)\n"
   ]
  },
  {
   "cell_type": "code",
   "execution_count": 13,
   "metadata": {
    "tags": []
   },
   "outputs": [
    {
     "output_type": "stream",
     "name": "stdout",
     "text": "RealDictRow([('concat', 'https://github.com/jjhenkel/leveldb/1454924aacba2ea3cdf183bbed512566a600b05a')])\n"
    }
   ],
   "source": [
    "cursor.execute(\"SELECT CONCAT(CONCAT(project_name, '/'), commit_hash) FROM meta_projects\")\n",
    "for row in cursor.fetchall():\n",
    "    print(row)"
   ]
  },
  {
   "cell_type": "code",
   "execution_count": 13,
   "metadata": {
    "tags": []
   },
   "outputs": [
    {
     "output_type": "execute_result",
     "data": {
      "text/plain": "'host=52.186.99.213 user=ft-admin password=vie0thahnahpheKe'"
     },
     "metadata": {},
     "execution_count": 13
    }
   ],
   "source": [
    "project.backend.db_conn_str"
   ]
  },
  {
   "cell_type": "code",
   "execution_count": null,
   "metadata": {
    "tags": []
   },
   "outputs": [],
   "source": []
  },
  {
   "cell_type": "code",
   "execution_count": null,
   "metadata": {},
   "outputs": [],
   "source": []
  }
 ]
}